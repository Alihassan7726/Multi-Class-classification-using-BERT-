{
  "nbformat": 4,
  "nbformat_minor": 0,
  "metadata": {
    "colab": {
      "name": "Multi-Class classification using BERT.ipynb",
      "provenance": [],
      "collapsed_sections": []
    },
    "kernelspec": {
      "name": "python3",
      "display_name": "Python 3"
    },
    "language_info": {
      "name": "python"
    },
    "accelerator": "GPU"
  },
  "cells": [
    {
      "cell_type": "markdown",
      "metadata": {
        "id": "9YIM0JgWMzkF"
      },
      "source": [
        "<h1 align=right> Fine-Tuning BERT for Text Classification with TensorFlow</h2>"
      ]
    },
    {
      "cell_type": "markdown",
      "metadata": {
        "id": "8jfs8IH8MlIN"
      },
      "source": [
        "In this project we'll see how to fine-tune BERT for a multi-class classification problem using Tensorflow and tf_hub . \n",
        "\n",
        "The pre-trained BERT models are available at [tensorflow hub](https://tfhub.dev/). "
      ]
    },
    {
      "cell_type": "markdown",
      "metadata": {
        "id": "eM-MalAx3xx_"
      },
      "source": [
        "# Table of contents:\n",
        "- **[Step 1]()**: Setting up TensorFlow and Colab Runtime\n",
        "- **[Step 2]()**: Clonning tensorflow Model garden repo and installing required dependencies \n",
        "- **[Step 3]()**: Downloading and Importing the BBC News Dataset\n",
        "- **[Step 4]()**: Custom cleaning the data before passing to BERT tokenizer\n",
        "- **[Step 5]()**: Creating tf.data.Datasets for Training and Evaluation\n",
        "- **[Step 6]()**: Downloading a Pre-trained BERT Model from TensorFlow Hub\n",
        "- **[Step 7]()**: Tokenizing and Preprocessing Text for BERT\n",
        "- **[Step 8]()**: Wraping a Python Function into a TensorFlow op for Eager Execution\n",
        "- **[Step 9]()**: Creating a TensorFlow Input Pipeline with `tf.data`\n",
        "- **[Step 10]()**: Adding a Classification Head to the BERT `hub.KerasLayer`\n",
        "- **[Step 11]()**: Fine-Tuning BERT for Text Classification\n",
        "- **[Step 12]()**: Saving and evaluating the BERT Model on new data"
      ]
    },
    {
      "cell_type": "markdown",
      "metadata": {
        "id": "9T9ffZG-5ckF"
      },
      "source": [
        "### Step 1: Setting up TensorFlow and Colab Runtime\n",
        "\n",
        "Go to above menu bar and select `Runtime` then from Dropdown menu select `change runtime type` and then choose `GPU` from that to enable it . Lastly try to connect GPU with `Connect` button at upper right corner of notebook "
      ]
    },
    {
      "cell_type": "code",
      "metadata": {
        "colab": {
          "base_uri": "https://localhost:8080/"
        },
        "id": "RQA44xzLNXip",
        "outputId": "1b97106a-3ddd-4486-e573-9337a3137b69"
      },
      "source": [
        "import tensorflow as tf\n",
        "print(\"GPU is\", \"available\" if tf.config.experimental.list_physical_devices(\"GPU\") else \"NOT AVAILABLE\")\n",
        "!nvidia-smi"
      ],
      "execution_count": null,
      "outputs": [
        {
          "output_type": "stream",
          "text": [
            "GPU is available\n",
            "Sat Jun 26 07:38:10 2021       \n",
            "+-----------------------------------------------------------------------------+\n",
            "| NVIDIA-SMI 465.27       Driver Version: 460.32.03    CUDA Version: 11.2     |\n",
            "|-------------------------------+----------------------+----------------------+\n",
            "| GPU  Name        Persistence-M| Bus-Id        Disp.A | Volatile Uncorr. ECC |\n",
            "| Fan  Temp  Perf  Pwr:Usage/Cap|         Memory-Usage | GPU-Util  Compute M. |\n",
            "|                               |                      |               MIG M. |\n",
            "|===============================+======================+======================|\n",
            "|   0  Tesla T4            Off  | 00000000:00:04.0 Off |                    0 |\n",
            "| N/A   37C    P8     9W /  70W |      3MiB / 15109MiB |      0%      Default |\n",
            "|                               |                      |                  N/A |\n",
            "+-------------------------------+----------------------+----------------------+\n",
            "                                                                               \n",
            "+-----------------------------------------------------------------------------+\n",
            "| Processes:                                                                  |\n",
            "|  GPU   GI   CI        PID   Type   Process name                  GPU Memory |\n",
            "|        ID   ID                                                   Usage      |\n",
            "|=============================================================================|\n",
            "|  No running processes found                                                 |\n",
            "+-----------------------------------------------------------------------------+\n"
          ],
          "name": "stdout"
        }
      ]
    },
    {
      "cell_type": "markdown",
      "metadata": {
        "id": "a0SOnFXSQZ0T"
      },
      "source": [
        "### Step 2: Clonning tensorflow Model garden repo and installing required dependencies \n",
        "\n",
        "You have to restart your kernel after executing below 2 cells by clicking on same `Runtime` menu and then choosing `Restart runtime`"
      ]
    },
    {
      "cell_type": "code",
      "metadata": {
        "colab": {
          "base_uri": "https://localhost:8080/"
        },
        "id": "VML30DNoQdKI",
        "outputId": "c006ff84-d266-4d23-b707-57d592bfeee4"
      },
      "source": [
        "# Tensorflow official models for NLP and CV\n",
        "!git clone --depth 1 -b v2.3.0 https://github.com/tensorflow/models.git"
      ],
      "execution_count": null,
      "outputs": [
        {
          "output_type": "stream",
          "text": [
            "Cloning into 'models'...\n",
            "remote: Enumerating objects: 2650, done.\u001b[K\n",
            "remote: Counting objects: 100% (2650/2650), done.\u001b[K\n",
            "remote: Compressing objects: 100% (2311/2311), done.\u001b[K\n",
            "remote: Total 2650 (delta 506), reused 1386 (delta 306), pack-reused 0\u001b[K\n",
            "Receiving objects: 100% (2650/2650), 34.02 MiB | 33.33 MiB/s, done.\n",
            "Resolving deltas: 100% (506/506), done.\n",
            "Note: checking out '400d68abbccda2f0f6609e3a924467718b144233'.\n",
            "\n",
            "You are in 'detached HEAD' state. You can look around, make experimental\n",
            "changes and commit them, and you can discard any commits you make in this\n",
            "state without impacting any branches by performing another checkout.\n",
            "\n",
            "If you want to create a new branch to retain commits you create, you may\n",
            "do so (now or later) by using -b with the checkout command again. Example:\n",
            "\n",
            "  git checkout -b <new-branch-name>\n",
            "\n"
          ],
          "name": "stdout"
        }
      ]
    },
    {
      "cell_type": "code",
      "metadata": {
        "colab": {
          "base_uri": "https://localhost:8080/"
        },
        "id": "X08rbqefQw_n",
        "outputId": "b090b609-5c99-4334-b132-afeaf2b67f42"
      },
      "source": [
        "# install requirements to use tensorflow/models repository\n",
        "!pip install -Uqr models/official/requirements.txt\n",
        "# you may have to restart the runtime after this execution"
      ],
      "execution_count": null,
      "outputs": [
        {
          "output_type": "stream",
          "text": [
            "\u001b[K     |████████████████████████████████| 7.0MB 8.4MB/s \n",
            "\u001b[K     |████████████████████████████████| 194kB 32.2MB/s \n",
            "\u001b[K     |████████████████████████████████| 15.7MB 189kB/s \n",
            "\u001b[K     |████████████████████████████████| 9.9MB 34.9MB/s \n",
            "\u001b[K     |████████████████████████████████| 296kB 51.6MB/s \n",
            "\u001b[K     |████████████████████████████████| 102kB 15.1MB/s \n",
            "\u001b[K     |████████████████████████████████| 28.5MB 89kB/s \n",
            "\u001b[K     |████████████████████████████████| 215kB 58.1MB/s \n",
            "\u001b[K     |████████████████████████████████| 3.9MB 37.6MB/s \n",
            "\u001b[K     |████████████████████████████████| 686kB 37.9MB/s \n",
            "\u001b[K     |████████████████████████████████| 358kB 45.8MB/s \n",
            "\u001b[K     |████████████████████████████████| 1.2MB 38.5MB/s \n",
            "\u001b[K     |████████████████████████████████| 10.3MB 209kB/s \n",
            "\u001b[K     |████████████████████████████████| 38.2MB 74kB/s \n",
            "\u001b[K     |████████████████████████████████| 645kB 44.8MB/s \n",
            "\u001b[K     |████████████████████████████████| 3.0MB 39.6MB/s \n",
            "\u001b[K     |████████████████████████████████| 51kB 8.6MB/s \n",
            "\u001b[K     |████████████████████████████████| 81kB 11.4MB/s \n",
            "\u001b[?25h  Building wheel for py-cpuinfo (setup.py) ... \u001b[?25l\u001b[?25hdone\n",
            "\u001b[31mERROR: tensorflow 2.5.0 has requirement numpy~=1.19.2, but you'll have numpy 1.21.0 which is incompatible.\u001b[0m\n",
            "\u001b[31mERROR: tensorflow 2.5.0 has requirement six~=1.15.0, but you'll have six 1.16.0 which is incompatible.\u001b[0m\n",
            "\u001b[31mERROR: pandas-gbq 0.13.3 has requirement google-cloud-bigquery[bqstorage,pandas]<2.0.0dev,>=1.11.1, but you'll have google-cloud-bigquery 2.20.0 which is incompatible.\u001b[0m\n",
            "\u001b[31mERROR: google-colab 1.0.0 has requirement pandas~=1.1.0; python_version >= \"3.0\", but you'll have pandas 1.2.5 which is incompatible.\u001b[0m\n",
            "\u001b[31mERROR: google-colab 1.0.0 has requirement six~=1.15.0, but you'll have six 1.16.0 which is incompatible.\u001b[0m\n",
            "\u001b[31mERROR: google-cloud-storage 1.18.1 has requirement google-resumable-media<0.5.0dev,>=0.3.1, but you'll have google-resumable-media 1.3.1 which is incompatible.\u001b[0m\n",
            "\u001b[31mERROR: google-cloud-bigquery 2.20.0 has requirement google-api-core[grpc]<2.0.0dev,>=1.29.0, but you'll have google-api-core 1.26.3 which is incompatible.\u001b[0m\n",
            "\u001b[31mERROR: earthengine-api 0.1.269 has requirement google-api-python-client<2,>=1.12.1, but you'll have google-api-python-client 2.10.0 which is incompatible.\u001b[0m\n",
            "\u001b[31mERROR: datascience 0.10.6 has requirement folium==0.2.1, but you'll have folium 0.8.3 which is incompatible.\u001b[0m\n",
            "\u001b[31mERROR: albumentations 0.1.12 has requirement imgaug<0.2.7,>=0.2.5, but you'll have imgaug 0.2.9 which is incompatible.\u001b[0m\n"
          ],
          "name": "stdout"
        }
      ]
    },
    {
      "cell_type": "markdown",
      "metadata": {
        "id": "xXRDK34I67Kf"
      },
      "source": [
        "### Step 3: Downloading and Importing the BBC News Dataset "
      ]
    },
    {
      "cell_type": "code",
      "metadata": {
        "id": "2oXMLsJsQ2LY"
      },
      "source": [
        "import numpy as np\n",
        "import tensorflow as tf\n",
        "import tensorflow_hub as hub\n",
        "import sys\n",
        "sys.path.append('models')\n",
        "# libraries from clonned repo\n",
        "from official.nlp.data import classifier_data_lib\n",
        "from official.nlp.bert import tokenization\n",
        "from official.nlp import optimization  # to create AdamW optimizer\n",
        "tf.get_logger().setLevel('ERROR')\n"
      ],
      "execution_count": null,
      "outputs": []
    },
    {
      "cell_type": "code",
      "metadata": {
        "colab": {
          "base_uri": "https://localhost:8080/"
        },
        "id": "KYMKvTahRSQG",
        "outputId": "ed7aa804-f40a-427c-eccc-003c6b4af24c"
      },
      "source": [
        "print(\"Eager mode: \", tf.executing_eagerly())\n",
        "print(\"Hub version: \", hub.__version__)\n",
        "print(\"Tensorflow version: \", tf.version.VERSION)"
      ],
      "execution_count": null,
      "outputs": [
        {
          "output_type": "stream",
          "text": [
            "Eager mode:  True\n",
            "Hub version:  0.12.0\n",
            "Tensorflow version:  2.5.0\n"
          ],
          "name": "stdout"
        }
      ]
    },
    {
      "cell_type": "code",
      "metadata": {
        "colab": {
          "base_uri": "https://localhost:8080/"
        },
        "id": "pHi0WhWeMa-L",
        "outputId": "e950408e-38a2-4034-e7a2-8096c62e11da"
      },
      "source": [
        "import pandas as pd\n",
        "import numpy as np\n",
        "import os\n",
        "pd.set_option('display.width',1000)\n",
        "pd.set_option('max_colwidth', 1000) \n",
        "import pandas as pd\n",
        "import nltk\n",
        "nltk.download('stopwords')\n",
        "nltk.download('wordnet')\n",
        "from nltk.corpus import stopwords\n",
        "from nltk.tokenize import word_tokenize\n",
        "stpwrds = set(stopwords.words('english'))\n",
        "stpwrds.discard('not')\n",
        "stpwrds.discard('no')\n",
        "import os\n",
        "import re\n",
        "from nltk.stem import WordNetLemmatizer as wnl\n",
        "import sklearn\n"
      ],
      "execution_count": null,
      "outputs": [
        {
          "output_type": "stream",
          "text": [
            "[nltk_data] Downloading package stopwords to /root/nltk_data...\n",
            "[nltk_data]   Package stopwords is already up-to-date!\n",
            "[nltk_data] Downloading package wordnet to /root/nltk_data...\n",
            "[nltk_data]   Package wordnet is already up-to-date!\n"
          ],
          "name": "stdout"
        }
      ]
    },
    {
      "cell_type": "code",
      "metadata": {
        "colab": {
          "base_uri": "https://localhost:8080/"
        },
        "id": "TkxFJwz3M5Il",
        "outputId": "0505947d-48a8-4ea1-fbc4-ca31eaad2389"
      },
      "source": [
        "# Data is fetched and stored in tmp folder with name bbc-text.csv\n",
        "!wget --no-check-certificate \\\n",
        "    https://storage.googleapis.com/dataset-uploader/bbc/bbc-text.csv \\\n",
        "    -O /tmp/bbc-text.csv"
      ],
      "execution_count": null,
      "outputs": [
        {
          "output_type": "stream",
          "text": [
            "--2021-06-26 08:45:13--  https://storage.googleapis.com/dataset-uploader/bbc/bbc-text.csv\n",
            "Resolving storage.googleapis.com (storage.googleapis.com)... 172.253.62.128, 172.253.115.128, 172.253.122.128, ...\n",
            "Connecting to storage.googleapis.com (storage.googleapis.com)|172.253.62.128|:443... connected.\n",
            "HTTP request sent, awaiting response... 200 OK\n",
            "Length: 5057493 (4.8M) [text/csv]\n",
            "Saving to: ‘/tmp/bbc-text.csv’\n",
            "\n",
            "\r/tmp/bbc-text.csv     0%[                    ]       0  --.-KB/s               \r/tmp/bbc-text.csv   100%[===================>]   4.82M  --.-KB/s    in 0.02s   \n",
            "\n",
            "2021-06-26 08:45:13 (244 MB/s) - ‘/tmp/bbc-text.csv’ saved [5057493/5057493]\n",
            "\n"
          ],
          "name": "stdout"
        }
      ]
    },
    {
      "cell_type": "code",
      "metadata": {
        "colab": {
          "base_uri": "https://localhost:8080/",
          "height": 544
        },
        "id": "0EOKQwRuNRvF",
        "outputId": "31939a12-3aa0-4b98-ccd9-dc6c883f25a1"
      },
      "source": [
        "df = pd.read_csv('/tmp/bbc-text.csv' , delimiter = ',')\n",
        "df.head()"
      ],
      "execution_count": null,
      "outputs": [
        {
          "output_type": "execute_result",
          "data": {
            "text/html": [
              "<div>\n",
              "<style scoped>\n",
              "    .dataframe tbody tr th:only-of-type {\n",
              "        vertical-align: middle;\n",
              "    }\n",
              "\n",
              "    .dataframe tbody tr th {\n",
              "        vertical-align: top;\n",
              "    }\n",
              "\n",
              "    .dataframe thead th {\n",
              "        text-align: right;\n",
              "    }\n",
              "</style>\n",
              "<table border=\"1\" class=\"dataframe\">\n",
              "  <thead>\n",
              "    <tr style=\"text-align: right;\">\n",
              "      <th></th>\n",
              "      <th>category</th>\n",
              "      <th>text</th>\n",
              "    </tr>\n",
              "  </thead>\n",
              "  <tbody>\n",
              "    <tr>\n",
              "      <th>0</th>\n",
              "      <td>tech</td>\n",
              "      <td>tv future in the hands of viewers with home theatre systems  plasma high-definition tvs  and digital video recorders moving into the living room  the way people watch tv will be radically different in five years  time.  that is according to an expert panel which gathered at the annual consumer electronics show in las vegas to discuss how these new technologies will impact one of our favourite pastimes. with the us leading the trend  programmes and other content will be delivered to viewers via home networks  through cable  satellite  telecoms companies  and broadband service providers to front rooms and portable devices.  one of the most talked-about technologies of ces has been digital and personal video recorders (dvr and pvr). these set-top boxes  like the us s tivo and the uk s sky+ system  allow people to record  store  play  pause and forward wind tv programmes when they want.  essentially  the technology allows for much more personalised tv. they are also being built-in to h...</td>\n",
              "    </tr>\n",
              "    <tr>\n",
              "      <th>1</th>\n",
              "      <td>business</td>\n",
              "      <td>worldcom boss  left books alone  former worldcom boss bernie ebbers  who is accused of overseeing an $11bn (£5.8bn) fraud  never made accounting decisions  a witness has told jurors.  david myers made the comments under questioning by defence lawyers who have been arguing that mr ebbers was not responsible for worldcom s problems. the phone company collapsed in 2002 and prosecutors claim that losses were hidden to protect the firm s shares. mr myers has already pleaded guilty to fraud and is assisting prosecutors.  on monday  defence lawyer reid weingarten tried to distance his client from the allegations. during cross examination  he asked mr myers if he ever knew mr ebbers  make an accounting decision  .  not that i am aware of   mr myers replied.  did you ever know mr ebbers to make an accounting entry into worldcom books   mr weingarten pressed.  no   replied the witness. mr myers has admitted that he ordered false accounting entries at the request of former worldcom chief fina...</td>\n",
              "    </tr>\n",
              "    <tr>\n",
              "      <th>2</th>\n",
              "      <td>sport</td>\n",
              "      <td>tigers wary of farrell  gamble  leicester say they will not be rushed into making a bid for andy farrell should the great britain rugby league captain decide to switch codes.   we and anybody else involved in the process are still some way away from going to the next stage   tigers boss john wells told bbc radio leicester.  at the moment  there are still a lot of unknowns about andy farrell  not least his medical situation.  whoever does take him on is going to take a big  big gamble.  farrell  who has had persistent knee problems  had an operation on his knee five weeks ago and is expected to be out for another three months. leicester and saracens are believed to head the list of rugby union clubs interested in signing farrell if he decides to move to the 15-man game.  if he does move across to union  wells believes he would better off playing in the backs  at least initially.  i m sure he could make the step between league and union by being involved in the centre   said wells.  ...</td>\n",
              "    </tr>\n",
              "    <tr>\n",
              "      <th>3</th>\n",
              "      <td>sport</td>\n",
              "      <td>yeading face newcastle in fa cup premiership side newcastle united face a trip to ryman premier league leaders yeading in the fa cup third round.  the game - arguably the highlight of the draw - is a potential money-spinner for non-league yeading  who beat slough in the second round. conference side exeter city  who knocked out doncaster on saturday  will travel to old trafford to meet holders manchester united in january. arsenal were drawn at home to stoke and chelsea will play host to scunthorpe. the only other non-league side in the draw are hinckley united  who held brentford to a goalless draw on sunday. they will meet league one leaders luton if they win their replay against martin allen s team at griffin park.  a number of premiership teams face difficult away games against championship sides on the weekend of 8/9 january. third-placed everton visit plymouth  liverpool travel to burnley  crystal palace go to sunderland  fulham face carling cup semi-finalists watford  bolton...</td>\n",
              "    </tr>\n",
              "    <tr>\n",
              "      <th>4</th>\n",
              "      <td>entertainment</td>\n",
              "      <td>ocean s twelve raids box office ocean s twelve  the crime caper sequel starring george clooney  brad pitt and julia roberts  has gone straight to number one in the us box office chart.  it took $40.8m (£21m) in weekend ticket sales  according to studio estimates. the sequel follows the master criminals as they try to pull off three major heists across europe. it knocked last week s number one  national treasure  into third place. wesley snipes  blade: trinity was in second  taking $16.1m (£8.4m). rounding out the top five was animated fable the polar express  starring tom hanks  and festive comedy christmas with the kranks.  ocean s twelve box office triumph marks the fourth-biggest opening for a december release in the us  after the three films in the lord of the rings trilogy. the sequel narrowly beat its 2001 predecessor  ocean s eleven which took $38.1m (£19.8m) on its opening weekend and $184m (£95.8m) in total. a remake of the 1960s film  starring frank sinatra and the rat pa...</td>\n",
              "    </tr>\n",
              "  </tbody>\n",
              "</table>\n",
              "</div>"
            ],
            "text/plain": [
              "        category                                                                                                                                                                                                                                                                                                                                                                                                                                                                                                                                                                                                                                                                                                                                                                                                                                                                                                                                                                                                                                     text\n",
              "0           tech  tv future in the hands of viewers with home theatre systems  plasma high-definition tvs  and digital video recorders moving into the living room  the way people watch tv will be radically different in five years  time.  that is according to an expert panel which gathered at the annual consumer electronics show in las vegas to discuss how these new technologies will impact one of our favourite pastimes. with the us leading the trend  programmes and other content will be delivered to viewers via home networks  through cable  satellite  telecoms companies  and broadband service providers to front rooms and portable devices.  one of the most talked-about technologies of ces has been digital and personal video recorders (dvr and pvr). these set-top boxes  like the us s tivo and the uk s sky+ system  allow people to record  store  play  pause and forward wind tv programmes when they want.  essentially  the technology allows for much more personalised tv. they are also being built-in to h...\n",
              "1       business  worldcom boss  left books alone  former worldcom boss bernie ebbers  who is accused of overseeing an $11bn (£5.8bn) fraud  never made accounting decisions  a witness has told jurors.  david myers made the comments under questioning by defence lawyers who have been arguing that mr ebbers was not responsible for worldcom s problems. the phone company collapsed in 2002 and prosecutors claim that losses were hidden to protect the firm s shares. mr myers has already pleaded guilty to fraud and is assisting prosecutors.  on monday  defence lawyer reid weingarten tried to distance his client from the allegations. during cross examination  he asked mr myers if he ever knew mr ebbers  make an accounting decision  .  not that i am aware of   mr myers replied.  did you ever know mr ebbers to make an accounting entry into worldcom books   mr weingarten pressed.  no   replied the witness. mr myers has admitted that he ordered false accounting entries at the request of former worldcom chief fina...\n",
              "2          sport  tigers wary of farrell  gamble  leicester say they will not be rushed into making a bid for andy farrell should the great britain rugby league captain decide to switch codes.   we and anybody else involved in the process are still some way away from going to the next stage   tigers boss john wells told bbc radio leicester.  at the moment  there are still a lot of unknowns about andy farrell  not least his medical situation.  whoever does take him on is going to take a big  big gamble.  farrell  who has had persistent knee problems  had an operation on his knee five weeks ago and is expected to be out for another three months. leicester and saracens are believed to head the list of rugby union clubs interested in signing farrell if he decides to move to the 15-man game.  if he does move across to union  wells believes he would better off playing in the backs  at least initially.  i m sure he could make the step between league and union by being involved in the centre   said wells.  ...\n",
              "3          sport  yeading face newcastle in fa cup premiership side newcastle united face a trip to ryman premier league leaders yeading in the fa cup third round.  the game - arguably the highlight of the draw - is a potential money-spinner for non-league yeading  who beat slough in the second round. conference side exeter city  who knocked out doncaster on saturday  will travel to old trafford to meet holders manchester united in january. arsenal were drawn at home to stoke and chelsea will play host to scunthorpe. the only other non-league side in the draw are hinckley united  who held brentford to a goalless draw on sunday. they will meet league one leaders luton if they win their replay against martin allen s team at griffin park.  a number of premiership teams face difficult away games against championship sides on the weekend of 8/9 january. third-placed everton visit plymouth  liverpool travel to burnley  crystal palace go to sunderland  fulham face carling cup semi-finalists watford  bolton...\n",
              "4  entertainment  ocean s twelve raids box office ocean s twelve  the crime caper sequel starring george clooney  brad pitt and julia roberts  has gone straight to number one in the us box office chart.  it took $40.8m (£21m) in weekend ticket sales  according to studio estimates. the sequel follows the master criminals as they try to pull off three major heists across europe. it knocked last week s number one  national treasure  into third place. wesley snipes  blade: trinity was in second  taking $16.1m (£8.4m). rounding out the top five was animated fable the polar express  starring tom hanks  and festive comedy christmas with the kranks.  ocean s twelve box office triumph marks the fourth-biggest opening for a december release in the us  after the three films in the lord of the rings trilogy. the sequel narrowly beat its 2001 predecessor  ocean s eleven which took $38.1m (£19.8m) on its opening weekend and $184m (£95.8m) in total. a remake of the 1960s film  starring frank sinatra and the rat pa..."
            ]
          },
          "metadata": {
            "tags": []
          },
          "execution_count": 5
        }
      ]
    },
    {
      "cell_type": "code",
      "metadata": {
        "colab": {
          "base_uri": "https://localhost:8080/"
        },
        "id": "gcOnSBMsNUKO",
        "outputId": "adf01b4a-205d-4a75-b1da-ddda92616ce7"
      },
      "source": [
        "df.info()"
      ],
      "execution_count": null,
      "outputs": [
        {
          "output_type": "stream",
          "text": [
            "<class 'pandas.core.frame.DataFrame'>\n",
            "RangeIndex: 2225 entries, 0 to 2224\n",
            "Data columns (total 2 columns):\n",
            " #   Column    Non-Null Count  Dtype \n",
            "---  ------    --------------  ----- \n",
            " 0   category  2225 non-null   object\n",
            " 1   text      2225 non-null   object\n",
            "dtypes: object(2)\n",
            "memory usage: 34.9+ KB\n"
          ],
          "name": "stdout"
        }
      ]
    },
    {
      "cell_type": "code",
      "metadata": {
        "colab": {
          "base_uri": "https://localhost:8080/"
        },
        "id": "1qfv4ffHODDf",
        "outputId": "c4b1ba42-8b21-4558-9c01-b3e5d3df722d"
      },
      "source": [
        "df['category'].value_counts()"
      ],
      "execution_count": null,
      "outputs": [
        {
          "output_type": "execute_result",
          "data": {
            "text/plain": [
              "sport            511\n",
              "business         510\n",
              "politics         417\n",
              "tech             401\n",
              "entertainment    386\n",
              "Name: category, dtype: int64"
            ]
          },
          "metadata": {
            "tags": []
          },
          "execution_count": 7
        }
      ]
    },
    {
      "cell_type": "code",
      "metadata": {
        "colab": {
          "base_uri": "https://localhost:8080/"
        },
        "id": "1zScubHeOHZx",
        "outputId": "9f4b23e2-8993-46ab-e8b8-1571ad2b4332"
      },
      "source": [
        "# For simplicity we'll be taking only 3 classes for this task\n",
        "df = df[df['category'].isin(['sport','business','entertainment'])]\n",
        "df.info()"
      ],
      "execution_count": null,
      "outputs": [
        {
          "output_type": "stream",
          "text": [
            "<class 'pandas.core.frame.DataFrame'>\n",
            "Int64Index: 1407 entries, 1 to 2224\n",
            "Data columns (total 2 columns):\n",
            " #   Column    Non-Null Count  Dtype \n",
            "---  ------    --------------  ----- \n",
            " 0   category  1407 non-null   object\n",
            " 1   text      1407 non-null   object\n",
            "dtypes: object(2)\n",
            "memory usage: 33.0+ KB\n"
          ],
          "name": "stdout"
        }
      ]
    },
    {
      "cell_type": "markdown",
      "metadata": {
        "id": "XrQqRrxYOe9G"
      },
      "source": [
        "### Step 4: Custom cleaning the data before passing to BERT tokenizer \n"
      ]
    },
    {
      "cell_type": "code",
      "metadata": {
        "colab": {
          "base_uri": "https://localhost:8080/",
          "height": 969
        },
        "collapsed": true,
        "id": "C5fCjK4DOQRO",
        "outputId": "bc2ee6e4-a813-48d5-8272-003276b80be2"
      },
      "source": [
        "def clean_text(text):  \n",
        "    lower = text.lower()\n",
        "    words = re.sub(r\"(@[A-Za-z]+)|([^A-Za-z \\t])|(\\w+:\\/\\/\\S+)|^rt|http.+?\", \"\", lower )  \n",
        "    #pattren = r\"[^\\w\\s\\d]\"\n",
        "    #words = re.sub(pattren, \"\", lower)\n",
        "    words2 = words.split()\n",
        "    #print(words2)\n",
        "    final_words =  [wnl().lemmatize(word , pos = 'v') for word in words2 if word not in stopwords.words('english')]\n",
        "    final_words = ' '.join(final_words)\n",
        "    return(final_words)\n",
        "    \n",
        "df['Cleaned-text'] = df['text'].apply(clean_text)\n",
        "df.head()"
      ],
      "execution_count": null,
      "outputs": [
        {
          "output_type": "execute_result",
          "data": {
            "text/html": [
              "<div>\n",
              "<style scoped>\n",
              "    .dataframe tbody tr th:only-of-type {\n",
              "        vertical-align: middle;\n",
              "    }\n",
              "\n",
              "    .dataframe tbody tr th {\n",
              "        vertical-align: top;\n",
              "    }\n",
              "\n",
              "    .dataframe thead th {\n",
              "        text-align: right;\n",
              "    }\n",
              "</style>\n",
              "<table border=\"1\" class=\"dataframe\">\n",
              "  <thead>\n",
              "    <tr style=\"text-align: right;\">\n",
              "      <th></th>\n",
              "      <th>category</th>\n",
              "      <th>text</th>\n",
              "      <th>Cleaned-text</th>\n",
              "    </tr>\n",
              "  </thead>\n",
              "  <tbody>\n",
              "    <tr>\n",
              "      <th>1</th>\n",
              "      <td>business</td>\n",
              "      <td>worldcom boss  left books alone  former worldcom boss bernie ebbers  who is accused of overseeing an $11bn (£5.8bn) fraud  never made accounting decisions  a witness has told jurors.  david myers made the comments under questioning by defence lawyers who have been arguing that mr ebbers was not responsible for worldcom s problems. the phone company collapsed in 2002 and prosecutors claim that losses were hidden to protect the firm s shares. mr myers has already pleaded guilty to fraud and is assisting prosecutors.  on monday  defence lawyer reid weingarten tried to distance his client from the allegations. during cross examination  he asked mr myers if he ever knew mr ebbers  make an accounting decision  .  not that i am aware of   mr myers replied.  did you ever know mr ebbers to make an accounting entry into worldcom books   mr weingarten pressed.  no   replied the witness. mr myers has admitted that he ordered false accounting entries at the request of former worldcom chief fina...</td>\n",
              "      <td>worldcom boss leave book alone former worldcom boss bernie ebbers accuse oversee bn bn fraud never make account decisions witness tell jurors david myers make comment question defence lawyers argue mr ebbers responsible worldcom problems phone company collapse prosecutors claim losses hide protect firm share mr myers already plead guilty fraud assist prosecutors monday defence lawyer reid weingarten try distance client allegations cross examination ask mr myers ever know mr ebbers make account decision aware mr myers reply ever know mr ebbers make account entry worldcom book mr weingarten press reply witness mr myers admit order false account entries request former worldcom chief financial officer scott sullivan defence lawyers try paint mr sullivan admit fraud testify later trial mastermind behind worldcom account house card mr ebbers team meanwhile look portray affable boss admission pe graduate economist whatever abilities mr ebbers transform worldcom relative unknown bn telecom...</td>\n",
              "    </tr>\n",
              "    <tr>\n",
              "      <th>2</th>\n",
              "      <td>sport</td>\n",
              "      <td>tigers wary of farrell  gamble  leicester say they will not be rushed into making a bid for andy farrell should the great britain rugby league captain decide to switch codes.   we and anybody else involved in the process are still some way away from going to the next stage   tigers boss john wells told bbc radio leicester.  at the moment  there are still a lot of unknowns about andy farrell  not least his medical situation.  whoever does take him on is going to take a big  big gamble.  farrell  who has had persistent knee problems  had an operation on his knee five weeks ago and is expected to be out for another three months. leicester and saracens are believed to head the list of rugby union clubs interested in signing farrell if he decides to move to the 15-man game.  if he does move across to union  wells believes he would better off playing in the backs  at least initially.  i m sure he could make the step between league and union by being involved in the centre   said wells.  ...</td>\n",
              "      <td>tigers wary farrell gamble leicester say rush make bid andy farrell great britain rugby league captain decide switch cod anybody else involve process still way away go next stage tigers boss john well tell bbc radio leicester moment still lot unknowns andy farrell least medical situation whoever take go take big big gamble farrell persistent knee problems operation knee five weeks ago expect another three months leicester saracens believe head list rugby union club interest sign farrell decide move man game move across union well believe would better play back least initially sure could make step league union involve centre say well think england would prefer progress position back row make use rugby league skills within forward jury whether cross divide club balance strike cost gamble option bring readymade replacement</td>\n",
              "    </tr>\n",
              "    <tr>\n",
              "      <th>3</th>\n",
              "      <td>sport</td>\n",
              "      <td>yeading face newcastle in fa cup premiership side newcastle united face a trip to ryman premier league leaders yeading in the fa cup third round.  the game - arguably the highlight of the draw - is a potential money-spinner for non-league yeading  who beat slough in the second round. conference side exeter city  who knocked out doncaster on saturday  will travel to old trafford to meet holders manchester united in january. arsenal were drawn at home to stoke and chelsea will play host to scunthorpe. the only other non-league side in the draw are hinckley united  who held brentford to a goalless draw on sunday. they will meet league one leaders luton if they win their replay against martin allen s team at griffin park.  a number of premiership teams face difficult away games against championship sides on the weekend of 8/9 january. third-placed everton visit plymouth  liverpool travel to burnley  crystal palace go to sunderland  fulham face carling cup semi-finalists watford  bolton...</td>\n",
              "      <td>yeading face newcastle fa cup premiership side newcastle unite face trip ryman premier league leaders yeading fa cup third round game arguably highlight draw potential moneyspinner nonleague yeading beat slough second round conference side exeter city knock doncaster saturday travel old trafford meet holders manchester unite january arsenal draw home stoke chelsea play host scunthorpe nonleague side draw hinckley unite hold brentford goalless draw sunday meet league one leaders luton win replay martin allen team griffin park number premiership team face difficult away game championship side weekend january thirdplaced everton visit plymouth liverpool travel burnley crystal palace go sunderland fulham face carling cup semifinalists watford bolton meet ipswich aston villa draw sheffield unite premiership strugglers norwich blackburn west brom away west ham cardiff preston north end respectively southampton visit northampton already beat league two side carling cup earlier season midd...</td>\n",
              "    </tr>\n",
              "    <tr>\n",
              "      <th>4</th>\n",
              "      <td>entertainment</td>\n",
              "      <td>ocean s twelve raids box office ocean s twelve  the crime caper sequel starring george clooney  brad pitt and julia roberts  has gone straight to number one in the us box office chart.  it took $40.8m (£21m) in weekend ticket sales  according to studio estimates. the sequel follows the master criminals as they try to pull off three major heists across europe. it knocked last week s number one  national treasure  into third place. wesley snipes  blade: trinity was in second  taking $16.1m (£8.4m). rounding out the top five was animated fable the polar express  starring tom hanks  and festive comedy christmas with the kranks.  ocean s twelve box office triumph marks the fourth-biggest opening for a december release in the us  after the three films in the lord of the rings trilogy. the sequel narrowly beat its 2001 predecessor  ocean s eleven which took $38.1m (£19.8m) on its opening weekend and $184m (£95.8m) in total. a remake of the 1960s film  starring frank sinatra and the rat pa...</td>\n",
              "      <td>ocean twelve raid box office ocean twelve crime caper sequel star george clooney brad pitt julia roberts go straight number one us box office chart take weekend ticket sales accord studio estimate sequel follow master criminals try pull three major heist across europe knock last week number one national treasure third place wesley snip blade trinity second take round top five animate fable polar express star tom hanks festive comedy christmas kranks ocean twelve box office triumph mark fourthbiggest open december release us three film lord ring trilogy sequel narrowly beat predecessor ocean eleven take open weekend total remake film star frank sinatra rat pack ocean eleven direct oscarwinning director steven soderbergh soderbergh return direct hit sequel reunite clooney pitt roberts matt damon andy garcia elliott gould catherine zetajones join allstar cast fun good holiday movie say dan fellman president distribution warner bros however us critics less complimentary project los ang...</td>\n",
              "    </tr>\n",
              "    <tr>\n",
              "      <th>7</th>\n",
              "      <td>sport</td>\n",
              "      <td>henman hopes ended in dubai third seed tim henman slumped to a straight sets defeat in his rain-interrupted dubai open quarter-final against ivan ljubicic.  the croatian eighth seed booked his place in the last four with a 7-5 6-4 victory over the british number one. henman had looked on course to level the match after going 2-0 up in the second set  but his progress was halted as the rain intervened again. ljubicic hit back after the break to seal a fourth straight win over henman. earlier in the day  spanish fifth seed tommy robredo secured his semi-final place when he beat nicolas kiefer of germany 6-4 6-4. afterwards  henman was left cursing the weather and the umpire after seven breaks for rain during the match.  it was incredibly frustrating   henman said.  it s raining and the umpire doesn t take control.  he kept telling us to play till the end of the game. but if it s raining  you come off - the score s irrelevant.  it couldn t be more frustrating as i was very happy with ...</td>\n",
              "      <td>henman hop end dubai third seed tim henman slump straight set defeat raininterrupted dubai open quarterfinal ivan ljubicic croatian eighth seed book place last four victory british number one henman look course level match go second set progress halt rain intervene ljubicic hit back break seal fourth straight win henman earlier day spanish fifth seed tommy robredo secure semifinal place beat nicolas kiefer germany afterwards henman leave curse weather umpire seven break rain match incredibly frustrate henman say rain umpire take control keep tell us play till end game rain come score irrelevant frustrate happy form expect desert</td>\n",
              "    </tr>\n",
              "  </tbody>\n",
              "</table>\n",
              "</div>"
            ],
            "text/plain": [
              "        category  ...                                                                                                                                                                                                                                                                                                                                                                                                                                                                                                                                                                                                                                                                                                                                                                                                                                                                                                                                                                                                                             Cleaned-text\n",
              "1       business  ...  worldcom boss leave book alone former worldcom boss bernie ebbers accuse oversee bn bn fraud never make account decisions witness tell jurors david myers make comment question defence lawyers argue mr ebbers responsible worldcom problems phone company collapse prosecutors claim losses hide protect firm share mr myers already plead guilty fraud assist prosecutors monday defence lawyer reid weingarten try distance client allegations cross examination ask mr myers ever know mr ebbers make account decision aware mr myers reply ever know mr ebbers make account entry worldcom book mr weingarten press reply witness mr myers admit order false account entries request former worldcom chief financial officer scott sullivan defence lawyers try paint mr sullivan admit fraud testify later trial mastermind behind worldcom account house card mr ebbers team meanwhile look portray affable boss admission pe graduate economist whatever abilities mr ebbers transform worldcom relative unknown bn telecom...\n",
              "2          sport  ...                                                                                                                                                                          tigers wary farrell gamble leicester say rush make bid andy farrell great britain rugby league captain decide switch cod anybody else involve process still way away go next stage tigers boss john well tell bbc radio leicester moment still lot unknowns andy farrell least medical situation whoever take go take big big gamble farrell persistent knee problems operation knee five weeks ago expect another three months leicester saracens believe head list rugby union club interest sign farrell decide move man game move across union well believe would better play back least initially sure could make step league union involve centre say well think england would prefer progress position back row make use rugby league skills within forward jury whether cross divide club balance strike cost gamble option bring readymade replacement\n",
              "3          sport  ...  yeading face newcastle fa cup premiership side newcastle unite face trip ryman premier league leaders yeading fa cup third round game arguably highlight draw potential moneyspinner nonleague yeading beat slough second round conference side exeter city knock doncaster saturday travel old trafford meet holders manchester unite january arsenal draw home stoke chelsea play host scunthorpe nonleague side draw hinckley unite hold brentford goalless draw sunday meet league one leaders luton win replay martin allen team griffin park number premiership team face difficult away game championship side weekend january thirdplaced everton visit plymouth liverpool travel burnley crystal palace go sunderland fulham face carling cup semifinalists watford bolton meet ipswich aston villa draw sheffield unite premiership strugglers norwich blackburn west brom away west ham cardiff preston north end respectively southampton visit northampton already beat league two side carling cup earlier season midd...\n",
              "4  entertainment  ...  ocean twelve raid box office ocean twelve crime caper sequel star george clooney brad pitt julia roberts go straight number one us box office chart take weekend ticket sales accord studio estimate sequel follow master criminals try pull three major heist across europe knock last week number one national treasure third place wesley snip blade trinity second take round top five animate fable polar express star tom hanks festive comedy christmas kranks ocean twelve box office triumph mark fourthbiggest open december release us three film lord ring trilogy sequel narrowly beat predecessor ocean eleven take open weekend total remake film star frank sinatra rat pack ocean eleven direct oscarwinning director steven soderbergh soderbergh return direct hit sequel reunite clooney pitt roberts matt damon andy garcia elliott gould catherine zetajones join allstar cast fun good holiday movie say dan fellman president distribution warner bros however us critics less complimentary project los ang...\n",
              "7          sport  ...                                                                                                                                                                                                                                                                                                                                                                             henman hop end dubai third seed tim henman slump straight set defeat raininterrupted dubai open quarterfinal ivan ljubicic croatian eighth seed book place last four victory british number one henman look course level match go second set progress halt rain intervene ljubicic hit back break seal fourth straight win henman earlier day spanish fifth seed tommy robredo secure semifinal place beat nicolas kiefer germany afterwards henman leave curse weather umpire seven break rain match incredibly frustrate henman say rain umpire take control keep tell us play till end game rain come score irrelevant frustrate happy form expect desert\n",
              "\n",
              "[5 rows x 3 columns]"
            ]
          },
          "metadata": {
            "tags": []
          },
          "execution_count": 9
        }
      ]
    },
    {
      "cell_type": "code",
      "metadata": {
        "colab": {
          "base_uri": "https://localhost:8080/",
          "height": 230
        },
        "collapsed": true,
        "id": "1yqoCc64OpGI",
        "outputId": "4e76de1f-d074-4d0d-a0d6-9e24f4b462a1"
      },
      "source": [
        "df.drop(columns=['text'],inplace=True)\n",
        "df.head(2)"
      ],
      "execution_count": null,
      "outputs": [
        {
          "output_type": "execute_result",
          "data": {
            "text/html": [
              "<div>\n",
              "<style scoped>\n",
              "    .dataframe tbody tr th:only-of-type {\n",
              "        vertical-align: middle;\n",
              "    }\n",
              "\n",
              "    .dataframe tbody tr th {\n",
              "        vertical-align: top;\n",
              "    }\n",
              "\n",
              "    .dataframe thead th {\n",
              "        text-align: right;\n",
              "    }\n",
              "</style>\n",
              "<table border=\"1\" class=\"dataframe\">\n",
              "  <thead>\n",
              "    <tr style=\"text-align: right;\">\n",
              "      <th></th>\n",
              "      <th>category</th>\n",
              "      <th>Cleaned-text</th>\n",
              "    </tr>\n",
              "  </thead>\n",
              "  <tbody>\n",
              "    <tr>\n",
              "      <th>1</th>\n",
              "      <td>business</td>\n",
              "      <td>worldcom boss leave book alone former worldcom boss bernie ebbers accuse oversee bn bn fraud never make account decisions witness tell jurors david myers make comment question defence lawyers argue mr ebbers responsible worldcom problems phone company collapse prosecutors claim losses hide protect firm share mr myers already plead guilty fraud assist prosecutors monday defence lawyer reid weingarten try distance client allegations cross examination ask mr myers ever know mr ebbers make account decision aware mr myers reply ever know mr ebbers make account entry worldcom book mr weingarten press reply witness mr myers admit order false account entries request former worldcom chief financial officer scott sullivan defence lawyers try paint mr sullivan admit fraud testify later trial mastermind behind worldcom account house card mr ebbers team meanwhile look portray affable boss admission pe graduate economist whatever abilities mr ebbers transform worldcom relative unknown bn telecom...</td>\n",
              "    </tr>\n",
              "    <tr>\n",
              "      <th>2</th>\n",
              "      <td>sport</td>\n",
              "      <td>tigers wary farrell gamble leicester say rush make bid andy farrell great britain rugby league captain decide switch cod anybody else involve process still way away go next stage tigers boss john well tell bbc radio leicester moment still lot unknowns andy farrell least medical situation whoever take go take big big gamble farrell persistent knee problems operation knee five weeks ago expect another three months leicester saracens believe head list rugby union club interest sign farrell decide move man game move across union well believe would better play back least initially sure could make step league union involve centre say well think england would prefer progress position back row make use rugby league skills within forward jury whether cross divide club balance strike cost gamble option bring readymade replacement</td>\n",
              "    </tr>\n",
              "  </tbody>\n",
              "</table>\n",
              "</div>"
            ],
            "text/plain": [
              "   category                                                                                                                                                                                                                                                                                                                                                                                                                                                                                                                                                                                                                                                                                                                                                                                                                                                                                                                                                                                                                             Cleaned-text\n",
              "1  business  worldcom boss leave book alone former worldcom boss bernie ebbers accuse oversee bn bn fraud never make account decisions witness tell jurors david myers make comment question defence lawyers argue mr ebbers responsible worldcom problems phone company collapse prosecutors claim losses hide protect firm share mr myers already plead guilty fraud assist prosecutors monday defence lawyer reid weingarten try distance client allegations cross examination ask mr myers ever know mr ebbers make account decision aware mr myers reply ever know mr ebbers make account entry worldcom book mr weingarten press reply witness mr myers admit order false account entries request former worldcom chief financial officer scott sullivan defence lawyers try paint mr sullivan admit fraud testify later trial mastermind behind worldcom account house card mr ebbers team meanwhile look portray affable boss admission pe graduate economist whatever abilities mr ebbers transform worldcom relative unknown bn telecom...\n",
              "2     sport                                                                                                                                                                          tigers wary farrell gamble leicester say rush make bid andy farrell great britain rugby league captain decide switch cod anybody else involve process still way away go next stage tigers boss john well tell bbc radio leicester moment still lot unknowns andy farrell least medical situation whoever take go take big big gamble farrell persistent knee problems operation knee five weeks ago expect another three months leicester saracens believe head list rugby union club interest sign farrell decide move man game move across union well believe would better play back least initially sure could make step league union involve centre say well think england would prefer progress position back row make use rugby league skills within forward jury whether cross divide club balance strike cost gamble option bring readymade replacement"
            ]
          },
          "metadata": {
            "tags": []
          },
          "execution_count": 10
        }
      ]
    },
    {
      "cell_type": "code",
      "metadata": {
        "colab": {
          "base_uri": "https://localhost:8080/"
        },
        "id": "623FJ9P5OvAj",
        "outputId": "886f6e81-6ad0-46b0-b006-29bf25bf1a59"
      },
      "source": [
        "## Encoding categorical data to integer labels\n",
        "from sklearn.preprocessing import LabelEncoder\n",
        "le = LabelEncoder()\n",
        "df['category'] = le.fit_transform(df['category'])\n",
        "print(list(le.classes_))\n",
        "print(df['category'].dtype)"
      ],
      "execution_count": null,
      "outputs": [
        {
          "output_type": "stream",
          "text": [
            "['business', 'entertainment', 'sport']\n",
            "int64\n"
          ],
          "name": "stdout"
        }
      ]
    },
    {
      "cell_type": "code",
      "metadata": {
        "colab": {
          "base_uri": "https://localhost:8080/"
        },
        "id": "HtVyj04EPevy",
        "outputId": "26c8958f-5923-4535-c5f4-a1a5d3924fb3"
      },
      "source": [
        "df['category'][:5]"
      ],
      "execution_count": null,
      "outputs": [
        {
          "output_type": "execute_result",
          "data": {
            "text/plain": [
              "1    0\n",
              "2    2\n",
              "3    2\n",
              "4    1\n",
              "7    2\n",
              "Name: category, dtype: int64"
            ]
          },
          "metadata": {
            "tags": []
          },
          "execution_count": 32
        }
      ]
    },
    {
      "cell_type": "markdown",
      "metadata": {
        "id": "NGsSQpIJSUb-"
      },
      "source": [
        "### Step 5: Creating tf.data.Datasets for Training and Evaluation"
      ]
    },
    {
      "cell_type": "code",
      "metadata": {
        "colab": {
          "base_uri": "https://localhost:8080/"
        },
        "id": "VNFosbI1SMCW",
        "outputId": "ce2db152-c4c2-44d4-b7e0-7b0d27380861"
      },
      "source": [
        "from sklearn.model_selection import train_test_split\n",
        "\n",
        "train_df , remaining = train_test_split(df, random_state = 42 , train_size = 0.9 , stratify = df.category.values )\n",
        "test_df , remaining = train_test_split(remaining, random_state = 42 , train_size = 0.9 , stratify = remaining.category.values )\n",
        "\n",
        "train_df.shape , test_df.shape"
      ],
      "execution_count": null,
      "outputs": [
        {
          "output_type": "execute_result",
          "data": {
            "text/plain": [
              "((1266, 2), (126, 2))"
            ]
          },
          "metadata": {
            "tags": []
          },
          "execution_count": 13
        }
      ]
    },
    {
      "cell_type": "code",
      "metadata": {
        "colab": {
          "base_uri": "https://localhost:8080/",
          "height": 265
        },
        "id": "pz2G61BoSY4k",
        "outputId": "fb1d738a-c5e6-4cc6-8170-5b6af95d717a"
      },
      "source": [
        "test_df['category'].value_counts().plot(kind='pie')"
      ],
      "execution_count": null,
      "outputs": [
        {
          "output_type": "execute_result",
          "data": {
            "text/plain": [
              "<AxesSubplot:ylabel='category'>"
            ]
          },
          "metadata": {
            "tags": []
          },
          "execution_count": 40
        },
        {
          "output_type": "display_data",
          "data": {
            "image/png": "[encoded data removed]",
            "text/plain": [
              "<Figure size 432x288 with 1 Axes>"
            ]
          },
          "metadata": {
            "tags": []
          }
        }
      ]
    },
    {
      "cell_type": "code",
      "metadata": {
        "colab": {
          "base_uri": "https://localhost:8080/"
        },
        "id": "2F_LguGJT8xV",
        "outputId": "05d044f8-7871-470a-9452-96d324c9254f"
      },
      "source": [
        "# Creating input pipeline on CPU to use GPU efficiently \n",
        "with tf.device('/cpu:0'):\n",
        "  train_data = tf.data.Dataset.from_tensor_slices((train_df['Cleaned-text'].values , train_df['category'].values ))\n",
        "  test_data = tf.data.Dataset.from_tensor_slices((test_df['Cleaned-text'].values , test_df['category'].values ))\n",
        "\n",
        "  for text , label in train_data.take(1):\n",
        "    print(text)\n",
        "    print(label)"
      ],
      "execution_count": null,
      "outputs": [
        {
          "output_type": "stream",
          "text": [
            "tf.Tensor(b'us tv cut nudity bbc film us tv network edit bbc film dirty war avoid show front nude woman scrub fictional chemical attack worth show nonessential nude scenes indecency complaints aggressively pursue us tv watchdogs say pbs jacoba atlas dirty war screen uncut bbc one last september depict dirty bomb attack city london also screen uncut us cable channel hbo january pbs say use extra footage broadcast show woman discreet angle instead us federal communications commission fin cbs last autumn singer janet jackson wardrobe malfunction breast expose dance routine justin timberlake many us network broadcasters nervous air nudity violence bad language ms atlas say pbs could put financially risk show uncut version dirty war could also deter many individual station air important film want pick battle say add pbs private nonprofit media enterprise own operate nation public television station bolder screen nonfiction historical program pbs see virtually us home tv describe trust community resource serve nearly million people week', shape=(), dtype=string)\n",
            "tf.Tensor(1, shape=(), dtype=int64)\n"
          ],
          "name": "stdout"
        }
      ]
    },
    {
      "cell_type": "code",
      "metadata": {
        "colab": {
          "base_uri": "https://localhost:8080/"
        },
        "id": "Q0oUH51iUWt4",
        "outputId": "023a3229-1c9a-4dce-fdcc-d8ae38f676d6"
      },
      "source": [
        "# Cheking the max/min/average source sequence length\n",
        "source_length_list=[]\n",
        "for source in df['Cleaned-text']:\n",
        "  source_length_list.append(len(source.split(' ')))\n",
        "max_seq_length = max(source_length_list)\n",
        "min_seq_length = min(source_length_list)\n",
        "avg_seq_lenght = np.average(source_length_list)\n",
        "print(\" Maximum source length \" , max_seq_length)\n",
        "print(\" Minimum source length \" , min_seq_length)\n",
        "print(\" Average source length \" , avg_seq_lenght)"
      ],
      "execution_count": null,
      "outputs": [
        {
          "output_type": "stream",
          "text": [
            " Maximum source length  1764\n",
            " Minimum source length  61\n",
            " Average source length  186.11513859275053\n"
          ],
          "name": "stdout"
        }
      ]
    },
    {
      "cell_type": "markdown",
      "metadata": {
        "id": "2M_NUmlzXgcs"
      },
      "source": [
        "### Step 6: Downloading a Pre-trained BERT Model from TensorFlow Hub"
      ]
    },
    {
      "cell_type": "code",
      "metadata": {
        "id": "AmLup4voVIJB"
      },
      "source": [
        "\"\"\"\n",
        "Each line of the dataset is composed of the review text and its label\n",
        "- Data preprocessing consists of transforming text to BERT input features:\n",
        "input_word_ids, input_mask, segment_ids\n",
        "- In the process, tokenizing the text is done with the provided BERT model tokenizer\n",
        "\"\"\"\n",
        "\n",
        "label_list = [0 , 1 , 2] # Label categories\n",
        "max_seq_length = 200 # maximum length of (token) input sequences . it can be any number\n",
        "train_batch_size = 16 # batch size ( 16 choosen to avoid Out-Of-Memory errors)\n",
        "\n",
        "\n",
        "# Get BERT layer and tokenizer:\n",
        "# More details here: https://tfhub.dev/tensorflow/bert_en_uncased_L-12_H-768_A-12/4\n",
        "bert_layer = hub.KerasLayer(\"https://tfhub.dev/tensorflow/bert_en_uncased_L-12_H-768_A-12/4\" , trainable = True)\n",
        "\n",
        "\n",
        "vocab_file = bert_layer.resolved_object.vocab_file.asset_path.numpy()\n",
        "do_lower_case = bert_layer.resolved_object.do_lower_case.numpy()\n",
        "tokenizer = tokenization.FullTokenizer(vocab_file , do_lower_case)"
      ],
      "execution_count": null,
      "outputs": []
    },
    {
      "cell_type": "code",
      "metadata": {
        "colab": {
          "base_uri": "https://localhost:8080/"
        },
        "collapsed": true,
        "id": "5g-loxy2VQAr",
        "outputId": "f0711794-5c26-4f6a-8550-c23efc3f8831"
      },
      "source": [
        "tokenizer.wordpiece_tokenizer.tokenize(str(df['Cleaned-text'].tail(1)))"
      ],
      "execution_count": null,
      "outputs": [
        {
          "output_type": "execute_result",
          "data": {
            "text/plain": [
              "['222',\n",
              " '##4',\n",
              " 'so',\n",
              " '##unes',\n",
              " '##s',\n",
              " 'delight',\n",
              " 'euro',\n",
              " 'progress',\n",
              " 'boss',\n",
              " 'graeme',\n",
              " 'so',\n",
              " '##unes',\n",
              " '##s',\n",
              " 'felt',\n",
              " 'newcastle',\n",
              " 'never',\n",
              " 'really',\n",
              " 'danger',\n",
              " 'go',\n",
              " 'uefa',\n",
              " 'cup',\n",
              " 'hee',\n",
              " '##ren',\n",
              " '##ve',\n",
              " '##en',\n",
              " 'early',\n",
              " 'goal',\n",
              " 'follow',\n",
              " 'alan',\n",
              " 'shear',\n",
              " '##er',\n",
              " 'strike',\n",
              " 'earn',\n",
              " 'win',\n",
              " 'place',\n",
              " 'uefa',\n",
              " 'cup',\n",
              " 'last',\n",
              " 'obviously',\n",
              " 'win',\n",
              " 'first',\n",
              " 'leg',\n",
              " 'give',\n",
              " 'us',\n",
              " 'great',\n",
              " 'advantage',\n",
              " 'say',\n",
              " 'aggregate',\n",
              " 'victory',\n",
              " 'get',\n",
              " 'goals',\n",
              " 'early',\n",
              " 'mind',\n",
              " 'players',\n",
              " 'job',\n",
              " 'do',\n",
              " 'get',\n",
              " 'goal',\n",
              " 'perhaps',\n",
              " 'make',\n",
              " 'us',\n",
              " 'bite',\n",
              " 'nervous',\n",
              " 'shear',\n",
              " '##er',\n",
              " 'goal',\n",
              " 'move',\n",
              " 'within',\n",
              " 'jackie',\n",
              " 'mil',\n",
              " '##burn',\n",
              " 'club',\n",
              " 'score',\n",
              " 'record',\n",
              " 'mag',\n",
              " '##pies',\n",
              " 'so',\n",
              " '##unes',\n",
              " '##s',\n",
              " 'say',\n",
              " 'think',\n",
              " 'beat',\n",
              " 'record',\n",
              " 'would',\n",
              " 'bear',\n",
              " 'decision',\n",
              " 'retire',\n",
              " 'end',\n",
              " 'season',\n",
              " 'think',\n",
              " 'get',\n",
              " 'year',\n",
              " 'would',\n",
              " 'want',\n",
              " 'stay',\n",
              " 'next',\n",
              " 'year',\n",
              " 'anyway',\n",
              " 'add',\n",
              " 'strike',\n",
              " 'ball',\n",
              " 'well',\n",
              " 'always',\n",
              " 'do',\n",
              " 'think',\n",
              " 'power',\n",
              " 'pace',\n",
              " 'beat',\n",
              " 'goalkeeper',\n",
              " 'so',\n",
              " '##unes',\n",
              " '##s',\n",
              " 'also',\n",
              " 'pay',\n",
              " 'tribute',\n",
              " 'laurent',\n",
              " 'robert',\n",
              " 'heart',\n",
              " 'much',\n",
              " 'unite',\n",
              " 'attack',\n",
              " 'play',\n",
              " 'first',\n",
              " 'half',\n",
              " 'really',\n",
              " 'well',\n",
              " 'everything',\n",
              " 'want',\n",
              " 'wide',\n",
              " 'player',\n",
              " 'future',\n",
              " 'please',\n",
              " 'say',\n",
              " '[UNK]',\n",
              " '[UNK]',\n",
              " 'dt',\n",
              " '##ype',\n",
              " '##:',\n",
              " 'object']"
            ]
          },
          "metadata": {
            "tags": []
          },
          "execution_count": 18
        }
      ]
    },
    {
      "cell_type": "code",
      "metadata": {
        "colab": {
          "base_uri": "https://localhost:8080/"
        },
        "collapsed": true,
        "id": "d1zZUMvvYClL",
        "outputId": "a83db28f-aa32-4bc8-92db-942faeec28cb"
      },
      "source": [
        "tokenizer.convert_tokens_to_ids(tokenizer.wordpiece_tokenizer.tokenize(str(df['Cleaned-text'].tail(1))))"
      ],
      "execution_count": null,
      "outputs": [
        {
          "output_type": "execute_result",
          "data": {
            "text/plain": [
              "[19015,\n",
              " 2549,\n",
              " 2061,\n",
              " 26639,\n",
              " 2015,\n",
              " 12208,\n",
              " 9944,\n",
              " 5082,\n",
              " 5795,\n",
              " 21840,\n",
              " 2061,\n",
              " 26639,\n",
              " 2015,\n",
              " 2371,\n",
              " 8142,\n",
              " 2196,\n",
              " 2428,\n",
              " 5473,\n",
              " 2175,\n",
              " 6663,\n",
              " 2452,\n",
              " 18235,\n",
              " 7389,\n",
              " 3726,\n",
              " 2368,\n",
              " 2220,\n",
              " 3125,\n",
              " 3582,\n",
              " 5070,\n",
              " 18330,\n",
              " 2121,\n",
              " 4894,\n",
              " 7796,\n",
              " 2663,\n",
              " 2173,\n",
              " 6663,\n",
              " 2452,\n",
              " 2197,\n",
              " 5525,\n",
              " 2663,\n",
              " 2034,\n",
              " 4190,\n",
              " 2507,\n",
              " 2149,\n",
              " 2307,\n",
              " 5056,\n",
              " 2360,\n",
              " 9572,\n",
              " 3377,\n",
              " 2131,\n",
              " 3289,\n",
              " 2220,\n",
              " 2568,\n",
              " 2867,\n",
              " 3105,\n",
              " 2079,\n",
              " 2131,\n",
              " 3125,\n",
              " 3383,\n",
              " 2191,\n",
              " 2149,\n",
              " 6805,\n",
              " 6091,\n",
              " 18330,\n",
              " 2121,\n",
              " 3125,\n",
              " 2693,\n",
              " 2306,\n",
              " 9901,\n",
              " 23689,\n",
              " 8022,\n",
              " 2252,\n",
              " 3556,\n",
              " 2501,\n",
              " 23848,\n",
              " 13046,\n",
              " 2061,\n",
              " 26639,\n",
              " 2015,\n",
              " 2360,\n",
              " 2228,\n",
              " 3786,\n",
              " 2501,\n",
              " 2052,\n",
              " 4562,\n",
              " 3247,\n",
              " 11036,\n",
              " 2203,\n",
              " 2161,\n",
              " 2228,\n",
              " 2131,\n",
              " 2095,\n",
              " 2052,\n",
              " 2215,\n",
              " 2994,\n",
              " 2279,\n",
              " 2095,\n",
              " 4312,\n",
              " 5587,\n",
              " 4894,\n",
              " 3608,\n",
              " 2092,\n",
              " 2467,\n",
              " 2079,\n",
              " 2228,\n",
              " 2373,\n",
              " 6393,\n",
              " 3786,\n",
              " 9653,\n",
              " 2061,\n",
              " 26639,\n",
              " 2015,\n",
              " 2036,\n",
              " 3477,\n",
              " 7050,\n",
              " 14718,\n",
              " 2728,\n",
              " 2540,\n",
              " 2172,\n",
              " 15908,\n",
              " 2886,\n",
              " 2377,\n",
              " 2034,\n",
              " 2431,\n",
              " 2428,\n",
              " 2092,\n",
              " 2673,\n",
              " 2215,\n",
              " 2898,\n",
              " 2447,\n",
              " 2925,\n",
              " 3531,\n",
              " 2360,\n",
              " 100,\n",
              " 100,\n",
              " 26718,\n",
              " 18863,\n",
              " 29627,\n",
              " 4874]"
            ]
          },
          "metadata": {
            "tags": []
          },
          "execution_count": 19
        }
      ]
    },
    {
      "cell_type": "markdown",
      "metadata": {
        "id": "BrzJ1t5cYjTi"
      },
      "source": [
        "### Step 7 : Tokenizing and Preprocessing Text for BERT"
      ]
    },
    {
      "cell_type": "markdown",
      "metadata": {
        "id": "Ok2jsZeFYjHp"
      },
      "source": [
        "\n",
        "<div align=\"right\">\n",
        "    <img width=\"512px\" src='https://drive.google.com/uc?id=1-SpKFELnEvBMBqO7h3iypo8q9uUUo96P' />\n",
        "    <p style=\"text-align: center;color:gray\">Figure 2: BERT Tokenizer</p>\n",
        "</div>"
      ]
    },
    {
      "cell_type": "markdown",
      "metadata": {
        "id": "EDIzRNZ3YwyX"
      },
      "source": [
        "We'll need to transform our data into a format BERT understands. This involves two steps. First, we create InputExamples using `classifier_data_lib`'s constructor `InputExample` provided in the BERT library."
      ]
    },
    {
      "cell_type": "code",
      "metadata": {
        "id": "0K0vOeUXYIq5"
      },
      "source": [
        "# This provides a function to convert each row to input features and label ( as required by BERT)\n",
        "\n",
        "def to_feature(text, label, label_list=label_list, max_seq_length=max_seq_length, tokenizer=tokenizer):\n",
        "  example = classifier_data_lib.InputExample(guid = None,\n",
        "                                             text_a = text.numpy(),\n",
        "                                             text_b = None,\n",
        "                                             label = label.numpy())\n",
        "  feature = classifier_data_lib.convert_single_example(0 , example , label_list , max_seq_length , tokenizer)\n",
        "  \n",
        "  return (feature.input_ids , feature.input_mask , feature.segment_ids , feature.label_id)\n",
        "  "
      ],
      "execution_count": null,
      "outputs": []
    },
    {
      "cell_type": "markdown",
      "metadata": {
        "id": "O24Ga_xjY9Kl"
      },
      "source": [
        "You want to use [`Dataset.map`](https://www.tensorflow.org/api_docs/python/tf/data/Dataset#map) to apply this function to each element of the dataset. [`Dataset.map`](https://www.tensorflow.org/api_docs/python/tf/data/Dataset#map) runs in graph mode.\n",
        "\n",
        "- Graph tensors do not have a value.\n",
        "- In graph mode you can only use TensorFlow Ops and functions.\n",
        "\n",
        "So you can't `.map` this function directly: You need to wrap it in a [`tf.py_function`](https://www.tensorflow.org/api_docs/python/tf/py_function). The [`tf.py_function`](https://www.tensorflow.org/api_docs/python/tf/py_function) will pass regular tensors (with a value and a `.numpy()` method to access it), to the wrapped python function."
      ]
    },
    {
      "cell_type": "markdown",
      "metadata": {
        "id": "a0fhilHZZAS2"
      },
      "source": [
        "### Step 8: Wraping a Python Function into a TensorFlow op for Eager Execution"
      ]
    },
    {
      "cell_type": "code",
      "metadata": {
        "id": "UP6S_cxEY4IS"
      },
      "source": [
        "def to_feature_map(text, label):\n",
        "  input_ids , input_mask , segment_ids , label_id = tf.py_function(to_feature , inp = [text , label],\n",
        "                                                                   Tout = [tf.int32 , tf.int32 , tf.int32 , tf.int32])\n",
        "  \n",
        "  input_ids.set_shape([max_seq_length])\n",
        "  input_mask.set_shape([max_seq_length])\n",
        "  segment_ids.set_shape([max_seq_length])\n",
        "  label_id.set_shape([])\n",
        "\n",
        "  x = {\n",
        "      \"input_word_ids\": input_ids,\n",
        "       \"input_mask\": input_mask,\n",
        "       \"input_type_ids\": segment_ids\n",
        "  }\n",
        "\n",
        "  return(x,label_id)"
      ],
      "execution_count": null,
      "outputs": []
    },
    {
      "cell_type": "markdown",
      "metadata": {
        "id": "DRPNksUwZG9c"
      },
      "source": [
        "### Step 9: Creating a TensorFlow Input Pipeline with `tf.data`"
      ]
    },
    {
      "cell_type": "code",
      "metadata": {
        "id": "xa-DraumZDPP"
      },
      "source": [
        "# Running everything on CPU\n",
        "with tf.device('/cpu:0'):\n",
        "  # train\n",
        "  train_data = (train_data.map(to_feature_map,\n",
        "                               num_parallel_calls = tf.data.experimental.AUTOTUNE)\n",
        "  .shuffle(1000)\n",
        "  .batch(16 , drop_remainder = True)\n",
        "  .prefetch(tf.data.experimental.AUTOTUNE))\n",
        "\n",
        "  # valid\n",
        "  test_data = (test_data.map(to_feature_map,\n",
        "                               num_parallel_calls = tf.data.experimental.AUTOTUNE)\n",
        "  .shuffle(1000)\n",
        "  .batch(16 , drop_remainder = True)\n",
        "  .prefetch(tf.data.experimental.AUTOTUNE))\n",
        "\n",
        "  "
      ],
      "execution_count": null,
      "outputs": []
    },
    {
      "cell_type": "markdown",
      "metadata": {
        "id": "Re0x50dGZRss"
      },
      "source": [
        "The resulting `tf.data.Datasets` return `(features, labels)` pairs, as expected by [`keras.Model.fit`](https://www.tensorflow.org/api_docs/python/tf/keras/Model#fit):\n",
        "\n",
        "\n",
        "\n"
      ]
    },
    {
      "cell_type": "code",
      "metadata": {
        "colab": {
          "base_uri": "https://localhost:8080/"
        },
        "id": "brWCdRNXZKAm",
        "outputId": "60e452e8-e424-4591-c346-e921d0b38cce"
      },
      "source": [
        "# train data spec\n",
        "train_data.element_spec"
      ],
      "execution_count": null,
      "outputs": [
        {
          "output_type": "execute_result",
          "data": {
            "text/plain": [
              "({'input_mask': TensorSpec(shape=(16, 200), dtype=tf.int32, name=None),\n",
              "  'input_type_ids': TensorSpec(shape=(16, 200), dtype=tf.int32, name=None),\n",
              "  'input_word_ids': TensorSpec(shape=(16, 200), dtype=tf.int32, name=None)},\n",
              " TensorSpec(shape=(16,), dtype=tf.int32, name=None))"
            ]
          },
          "metadata": {
            "tags": []
          },
          "execution_count": 23
        }
      ]
    },
    {
      "cell_type": "code",
      "metadata": {
        "colab": {
          "base_uri": "https://localhost:8080/"
        },
        "id": "5RbZ4eoSZUMr",
        "outputId": "f502bb2c-f9f5-4127-acf2-f92af6d870c9"
      },
      "source": [
        "# valid data spec\n",
        "test_data.element_spec"
      ],
      "execution_count": null,
      "outputs": [
        {
          "output_type": "execute_result",
          "data": {
            "text/plain": [
              "({'input_mask': TensorSpec(shape=(16, 200), dtype=tf.int32, name=None),\n",
              "  'input_type_ids': TensorSpec(shape=(16, 200), dtype=tf.int32, name=None),\n",
              "  'input_word_ids': TensorSpec(shape=(16, 200), dtype=tf.int32, name=None)},\n",
              " TensorSpec(shape=(16,), dtype=tf.int32, name=None))"
            ]
          },
          "metadata": {
            "tags": []
          },
          "execution_count": 24
        }
      ]
    },
    {
      "cell_type": "code",
      "metadata": {
        "colab": {
          "base_uri": "https://localhost:8080/"
        },
        "id": "7r3RTz2RZW8B",
        "outputId": "b19b3d8b-2d45-44f3-fd04-f821892ae9d0"
      },
      "source": [
        "train_data"
      ],
      "execution_count": null,
      "outputs": [
        {
          "output_type": "execute_result",
          "data": {
            "text/plain": [
              "<PrefetchDataset shapes: ({input_word_ids: (16, 200), input_mask: (16, 200), input_type_ids: (16, 200)}, (16,)), types: ({input_word_ids: tf.int32, input_mask: tf.int32, input_type_ids: tf.int32}, tf.int32)>"
            ]
          },
          "metadata": {
            "tags": []
          },
          "execution_count": 25
        }
      ]
    },
    {
      "cell_type": "markdown",
      "metadata": {
        "id": "FuuDpEdOZhqi"
      },
      "source": [
        "### Step 10: Adding a Classification Head to the BERT `hub.KerasLayer`"
      ]
    },
    {
      "cell_type": "markdown",
      "metadata": {
        "id": "ooNfl29KZmp8"
      },
      "source": [
        "<div align=\"right\">\n",
        "    <img width=\"512px\" src='https://drive.google.com/uc?id=1fnJTeJs5HUpz7nix-F9E6EZdgUflqyEu' />\n",
        "    <p style=\"text-align: center;color:gray\">Figure 3: BERT Layer</p>\n",
        "</div>"
      ]
    },
    {
      "cell_type": "code",
      "metadata": {
        "id": "v7XaVS6ZZaG4"
      },
      "source": [
        "# Building the model\n",
        "def create_model():\n",
        "  input_word_ids = tf.keras.layers.Input(shape=(max_seq_length,), dtype=tf.int32,\n",
        "                                         name = \"input_word_ids\")\n",
        "  input_mask = tf.keras.layers.Input(shape=(max_seq_length,), dtype=tf.int32,\n",
        "                                   name = \"input_mask\")\n",
        "  input_type_ids=tf.keras.layers.Input(shape=(max_seq_length,), dtype=tf.int32,\n",
        "                                       name = \"input_type_ids\")\n",
        "  \n",
        "  encoder_inputs = dict(input_word_ids = input_word_ids ,input_mask = input_mask,input_type_ids = input_type_ids  )\n",
        "  bert_layer = hub.KerasLayer(\"https://tfhub.dev/tensorflow/bert_en_uncased_L-12_H-768_A-12/4\" , trainable = True)\n",
        "  \n",
        "  outputs  = bert_layer(encoder_inputs)\n",
        "  pooled_output = outputs[\"pooled_output\"]      \n",
        "  \n",
        "  drop = tf.keras.layers.Dropout(0.4)(pooled_output)\n",
        "  output = tf.keras.layers.Dense(3, activation='softmax', name=\"output\")(drop)\n",
        "\n",
        "  model = tf.keras.Model(\n",
        "      inputs={\n",
        "      'input_word_ids': input_word_ids,\n",
        "       'input_mask': input_mask,\n",
        "       'input_type_ids': input_type_ids\n",
        "  },\n",
        "      outputs=output)\n",
        "  return model\n"
      ],
      "execution_count": null,
      "outputs": []
    },
    {
      "cell_type": "markdown",
      "metadata": {
        "id": "EkOgIDDDaZur"
      },
      "source": [
        "### Step 11: Fine-Tuning BERT for Text Classification"
      ]
    },
    {
      "cell_type": "markdown",
      "metadata": {
        "id": "93pjTLjAbeYp"
      },
      "source": [
        "### Optimizor\n",
        "\n",
        "For fine-tuning, let's use the same optimizer that BERT was originally trained with: the \"Adaptive Moments\" (Adam). This optimizer minimizes the prediction loss and does regularization by weight decay (not using moments), which is also known as [`AdamW`](https://arxiv.org/abs/1711.05101).\n",
        "\n",
        "For the learning rate (init_lr), we will use the same schedule as BERT pre-training: linear decay of a notional initial learning rate, prefixed with a linear warm-up phase over the first 10% of training steps (num_warmup_steps). In line with the BERT paper, the initial learning rate is smaller for fine-tuning (best of 5e-5, 3e-5, 2e-5)."
      ]
    },
    {
      "cell_type": "code",
      "metadata": {
        "id": "At9jeHY8ZiLV"
      },
      "source": [
        "loss = tf.keras.losses.SparseCategoricalCrossentropy()\n",
        "metrics = tf.metrics.Accuracy()"
      ],
      "execution_count": null,
      "outputs": []
    },
    {
      "cell_type": "code",
      "metadata": {
        "id": "2FYWvv94bRhg"
      },
      "source": [
        "epochs = 5\n",
        "steps_per_epoch = tf.data.experimental.cardinality(train_data).numpy()\n",
        "num_train_steps = steps_per_epoch * epochs\n",
        "num_warmup_steps = int(0.1*num_train_steps)\n",
        "\n",
        "init_lr = 3e-5\n",
        "optimizer = optimization.create_optimizer(init_lr=init_lr,\n",
        "                                          num_train_steps=num_train_steps,\n",
        "                                          num_warmup_steps=num_warmup_steps,\n",
        "                                          optimizer_type='adamw')"
      ],
      "execution_count": null,
      "outputs": []
    },
    {
      "cell_type": "code",
      "metadata": {
        "colab": {
          "base_uri": "https://localhost:8080/"
        },
        "id": "lNmw0XbDdn52",
        "outputId": "6a38409b-304c-4db9-e834-9fa75d8b8c34"
      },
      "source": [
        "model = create_model()\n",
        "model.compile(optimizer=optimizer,\n",
        "              loss='sparse_categorical_crossentropy',\n",
        "              metrics = ['accuracy'])\n",
        "model.summary()"
      ],
      "execution_count": null,
      "outputs": [
        {
          "output_type": "stream",
          "text": [
            "Model: \"model_3\"\n",
            "__________________________________________________________________________________________________\n",
            "Layer (type)                    Output Shape         Param #     Connected to                     \n",
            "==================================================================================================\n",
            "input_mask (InputLayer)         [(None, 200)]        0                                            \n",
            "__________________________________________________________________________________________________\n",
            "input_type_ids (InputLayer)     [(None, 200)]        0                                            \n",
            "__________________________________________________________________________________________________\n",
            "input_word_ids (InputLayer)     [(None, 200)]        0                                            \n",
            "__________________________________________________________________________________________________\n",
            "keras_layer_4 (KerasLayer)      {'encoder_outputs':  109482241   input_mask[0][0]                 \n",
            "                                                                 input_type_ids[0][0]             \n",
            "                                                                 input_word_ids[0][0]             \n",
            "__________________________________________________________________________________________________\n",
            "dropout_3 (Dropout)             (None, 768)          0           keras_layer_4[0][13]             \n",
            "__________________________________________________________________________________________________\n",
            "output (Dense)                  (None, 3)            2307        dropout_3[0][0]                  \n",
            "==================================================================================================\n",
            "Total params: 109,484,548\n",
            "Trainable params: 109,484,547\n",
            "Non-trainable params: 1\n",
            "__________________________________________________________________________________________________\n"
          ],
          "name": "stdout"
        }
      ]
    },
    {
      "cell_type": "code",
      "metadata": {
        "colab": {
          "base_uri": "https://localhost:8080/",
          "height": 358
        },
        "id": "6QTDBB7ZeAmj",
        "outputId": "23758c4c-4d43-46d8-9bdd-955e3189b156"
      },
      "source": [
        "tf.keras.utils.plot_model(model = model, show_shapes = True, dpi=76 )"
      ],
      "execution_count": null,
      "outputs": [
        {
          "output_type": "execute_result",
          "data": {
            "image/png": "[encoded data removed]",
            "text/plain": [
              "<IPython.core.display.Image object>"
            ]
          },
          "metadata": {
            "tags": []
          },
          "execution_count": 47
        }
      ]
    },
    {
      "cell_type": "code",
      "metadata": {
        "colab": {
          "base_uri": "https://localhost:8080/"
        },
        "id": "OuwvJIq_eiMk",
        "outputId": "de991a46-b295-4a65-964d-5fe3e3518dce"
      },
      "source": [
        "for text , labls in train_data.take(1):\n",
        "  print(labls)"
      ],
      "execution_count": null,
      "outputs": [
        {
          "output_type": "stream",
          "text": [
            "tf.Tensor([1 1 1 1 0 2 0 0 1 0 1 2 0 2 0 2], shape=(16,), dtype=int32)\n"
          ],
          "name": "stdout"
        }
      ]
    },
    {
      "cell_type": "code",
      "metadata": {
        "colab": {
          "base_uri": "https://localhost:8080/"
        },
        "id": "DKkJwk5EeKLW",
        "outputId": "307f0bf6-9483-4e82-ac56-f9cf1403a3b9"
      },
      "source": [
        "# Train model\n",
        "\n",
        "history = model.fit(train_data,\n",
        "                    validation_data = test_data,\n",
        "                    epochs = epochs,\n",
        "                    verbose = 1)"
      ],
      "execution_count": null,
      "outputs": [
        {
          "output_type": "stream",
          "text": [
            "Epoch 1/5\n",
            "79/79 [==============================] - 81s 779ms/step - loss: 0.1713 - accuracy: 0.9328 - val_loss: 6.8196e-04 - val_accuracy: 1.0000\n",
            "Epoch 2/5\n",
            "79/79 [==============================] - 65s 772ms/step - loss: 0.0122 - accuracy: 0.9976 - val_loss: 0.0019 - val_accuracy: 1.0000\n",
            "Epoch 3/5\n",
            "79/79 [==============================] - 66s 789ms/step - loss: 0.0041 - accuracy: 0.9984 - val_loss: 0.0019 - val_accuracy: 1.0000\n",
            "Epoch 4/5\n",
            "79/79 [==============================] - 66s 786ms/step - loss: 0.0032 - accuracy: 0.9984 - val_loss: 0.0018 - val_accuracy: 1.0000\n",
            "Epoch 5/5\n",
            "79/79 [==============================] - 66s 786ms/step - loss: 9.9602e-04 - accuracy: 1.0000 - val_loss: 3.1118e-04 - val_accuracy: 1.0000\n"
          ],
          "name": "stdout"
        }
      ]
    },
    {
      "cell_type": "markdown",
      "metadata": {
        "id": "3KTtpFjwn-lH"
      },
      "source": [
        "### Step 12: Saving and evaluating the BERT Model on new data"
      ]
    },
    {
      "cell_type": "code",
      "metadata": {
        "id": "GHpTTWj6eWUW"
      },
      "source": [
        "import matplotlib.pyplot as plt\n",
        "\n",
        "def plot_graphs(history, metric):\n",
        "  plt.plot(history.history[metric])\n",
        "  plt.plot(history.history['val_'+metric], '')\n",
        "  plt.xlabel(\"Epochs\")\n",
        "  plt.ylabel(metric)\n",
        "  plt.legend([metric, 'val_'+metric])\n",
        "  plt.show()"
      ],
      "execution_count": null,
      "outputs": []
    },
    {
      "cell_type": "code",
      "metadata": {
        "colab": {
          "base_uri": "https://localhost:8080/",
          "height": 279
        },
        "id": "euz5RC10i4-T",
        "outputId": "d21b0ff9-dacf-411a-e5d2-b0733fea437d"
      },
      "source": [
        "plot_graphs(history,'loss')"
      ],
      "execution_count": null,
      "outputs": [
        {
          "output_type": "display_data",
          "data": {
            "image/png": "[encoded data removed]",
            "text/plain": [
              "<Figure size 432x288 with 1 Axes>"
            ]
          },
          "metadata": {
            "tags": [],
            "needs_background": "light"
          }
        }
      ]
    },
    {
      "cell_type": "code",
      "metadata": {
        "colab": {
          "base_uri": "https://localhost:8080/",
          "height": 279
        },
        "id": "Jcn-2iIeoEgE",
        "outputId": "3a98d449-3ee5-4a10-e677-5a5cf1790dd8"
      },
      "source": [
        "plot_graphs(history,'accuracy')"
      ],
      "execution_count": null,
      "outputs": [
        {
          "output_type": "display_data",
          "data": {
            "image/png": "[encoded data removed]",
            "text/plain": [
              "<Figure size 432x288 with 1 Axes>"
            ]
          },
          "metadata": {
            "tags": [],
            "needs_background": "light"
          }
        }
      ]
    },
    {
      "cell_type": "code",
      "metadata": {
        "colab": {
          "base_uri": "https://localhost:8080/"
        },
        "id": "2vihujMPoNeW",
        "outputId": "c6d85c98-8cde-4d7b-f253-408093e32eab"
      },
      "source": [
        "# Evaluating on new data\n",
        "\n",
        "example_list = [\"band aid single storm new version band aid song know christmas go straight number one uk single chart charity record also tip year christmas number one feature vocals like chris martin dido robbie williams sugababes original version christmas number one sell copy first week million total release us reach number single chart however band aid go release us despite sell many countries around world us record shop stock import version know christmas say sell well los angeles new york british star appear current record dido coldplay chris martin well know music fan across atlantic along u frontman bono record company universal responsible global distribution single available across europe asia south america canada music fan us still able access song download band aid official website group highprofile american star know usa africa come together record fundraise single world song write lionel richie michael jackson quincy jones producer top us chart three weeks go win grammy award best\",\n",
        "                \"leary agree new villa contract aston villa boss david leary sign threeandahalf year contract extension thursday secure future club summer leary future question villa chairman doug ellis say happy secure deal david record since arrival excellent share board amibitions take club forward tell villa website reason important get right leary put pen paper deal sort righthand men roy aitken steve mcgregor important roy steve integral part team stay time leary say thursday ahead sign new deal someone try put aston villa back belong challenge earlier december rumour leary would quit offer new deal end season deny say happy take challenge improve villa fortunes long term want make sure end five years would charge villa achieve top six finish premiership regular basis say leary take villa park may achieve take next step forward need bring quality players would like couple next month possible set us way meanwhile leary rap skipper olof mellberg comment sunday derby birmingham mellberg speak\"]\n",
        "\n",
        "valid_data = tf.data.Dataset.from_tensor_slices((example_list , [1,2])) # 1 refers to 'entertainment' and 2 refers to 'sport'\n",
        "valid_data = (valid_data.map(to_feature_map).batch(1))\n",
        "valid_data.element_spec"
      ],
      "execution_count": null,
      "outputs": [
        {
          "output_type": "execute_result",
          "data": {
            "text/plain": [
              "({'input_mask': TensorSpec(shape=(None, 200), dtype=tf.int32, name=None),\n",
              "  'input_type_ids': TensorSpec(shape=(None, 200), dtype=tf.int32, name=None),\n",
              "  'input_word_ids': TensorSpec(shape=(None, 200), dtype=tf.int32, name=None)},\n",
              " TensorSpec(shape=(None,), dtype=tf.int32, name=None))"
            ]
          },
          "metadata": {
            "tags": []
          },
          "execution_count": 63
        }
      ]
    },
    {
      "cell_type": "code",
      "metadata": {
        "id": "2kK-WLUGpf_5"
      },
      "source": [
        "preds = model.predict(valid_data)"
      ],
      "execution_count": null,
      "outputs": []
    },
    {
      "cell_type": "code",
      "metadata": {
        "colab": {
          "base_uri": "https://localhost:8080/"
        },
        "id": "zB_KcGA5plS6",
        "outputId": "3a2abdbd-6aed-4c17-ec8e-efcf623a00b9"
      },
      "source": [
        "# It's really accurate !!!\n",
        "predicted_values = tf.nn.softmax(preds)\n",
        "predicted_values = [np.argmax(x) for x in predicted_values]\n",
        "predicted_values"
      ],
      "execution_count": null,
      "outputs": [
        {
          "output_type": "execute_result",
          "data": {
            "text/plain": [
              "[1, 2]"
            ]
          },
          "metadata": {
            "tags": []
          },
          "execution_count": 93
        }
      ]
    },
    {
      "cell_type": "markdown",
      "metadata": {
        "id": "vGJlosRPqhRo"
      },
      "source": [
        "## Exporting Model for inference"
      ]
    },
    {
      "cell_type": "code",
      "metadata": {
        "colab": {
          "base_uri": "https://localhost:8080/"
        },
        "id": "WmE10F3vpy_q",
        "outputId": "ade59f5d-db1d-4544-9a48-5118112cac94"
      },
      "source": [
        "dataset_name = 'BBC'\n",
        "saved_model_path = './{}_bert'.format(dataset_name.replace('/', '_'))\n",
        "print(saved_model_path)\n",
        "model.save(saved_model_path, include_optimizer=False)\n"
      ],
      "execution_count": null,
      "outputs": [
        {
          "output_type": "stream",
          "text": [
            "./BBC_bert\n"
          ],
          "name": "stdout"
        },
        {
          "output_type": "stream",
          "text": [
            "WARNING:absl:Found untraced functions such as restored_function_body, restored_function_body, restored_function_body, restored_function_body, restored_function_body while saving (showing 5 of 915). These functions will not be directly callable after loading.\n"
          ],
          "name": "stderr"
        }
      ]
    },
    {
      "cell_type": "code",
      "metadata": {
        "colab": {
          "base_uri": "https://localhost:8080/"
        },
        "id": "QkN-o54zsq7A",
        "outputId": "7c7936a1-1404-4a3f-9db1-106cbc7162d2"
      },
      "source": [
        "ls ./BBC_bert"
      ],
      "execution_count": null,
      "outputs": [
        {
          "output_type": "stream",
          "text": [
            "\u001b[0m\u001b[01;34massets\u001b[0m/  keras_metadata.pb  saved_model.pb  \u001b[01;34mvariables\u001b[0m/\n"
          ],
          "name": "stdout"
        }
      ]
    },
    {
      "cell_type": "code",
      "metadata": {
        "colab": {
          "base_uri": "https://localhost:8080/"
        },
        "id": "MYH-zh3_qOjI",
        "outputId": "820f29fe-d909-46d7-c223-8263efad0c1f"
      },
      "source": [
        "reloaded_model = tf.keras.models.load_model(saved_model_path)\n",
        "reloaded_model"
      ],
      "execution_count": null,
      "outputs": [
        {
          "output_type": "execute_result",
          "data": {
            "text/plain": [
              "<tensorflow.python.keras.engine.functional.Functional at 0x7f1a947a6dd0>"
            ]
          },
          "metadata": {
            "tags": []
          },
          "execution_count": 96
        }
      ]
    },
    {
      "cell_type": "code",
      "metadata": {
        "colab": {
          "base_uri": "https://localhost:8080/"
        },
        "id": "3jkcoQa1qsVA",
        "outputId": "a3cf7565-b08e-4035-bda9-e0df9f0462e7"
      },
      "source": [
        "def evaluate(dum_model):\n",
        "  preds = dum_model.predict(valid_data)\n",
        "  predicted_values = tf.nn.softmax(preds)\n",
        "  predicted_values = [np.argmax(x) for x in predicted_values]\n",
        "  return predicted_values\n",
        "\n",
        "print('Results from the saved model:')\n",
        "reloaded_results = evaluate(reloaded_model)\n",
        "print(reloaded_results)\n",
        "\n",
        "print('Results from the model in memory:')\n",
        "original_results = evaluate(model)\n",
        "print(original_results)"
      ],
      "execution_count": null,
      "outputs": [
        {
          "output_type": "stream",
          "text": [
            "Results from the saved model:\n",
            "[1, 2]\n",
            "Results from the model in memory:\n",
            "[1, 2]\n"
          ],
          "name": "stdout"
        }
      ]
    },
    {
      "cell_type": "code",
      "metadata": {
        "id": "06d-gOpZvBh4"
      },
      "source": [
        ""
      ],
      "execution_count": null,
      "outputs": []
    }
  ]
}